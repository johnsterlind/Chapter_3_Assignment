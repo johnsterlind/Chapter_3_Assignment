{
 "cells": [
  {
   "cell_type": "code",
   "execution_count": 1,
   "id": "0b74f8fb-4bc1-482e-9610-fc35adf58931",
   "metadata": {},
   "outputs": [
    {
     "data": {
      "text/plain": [
       "[1990, 1991, 1992, 1993, 1994, 1995]"
      ]
     },
     "execution_count": 1,
     "metadata": {},
     "output_type": "execute_result"
    }
   ],
   "source": [
    "# Assuming birth year is 1990 for this example\n",
    "years_list = [1990, 1991, 1992, 1993, 1994, 1995]\n",
    "years_list"
   ]
  },
  {
   "cell_type": "code",
   "execution_count": 3,
   "id": "941d6f9f-9172-4f40-9444-ff4641b6e1e4",
   "metadata": {},
   "outputs": [
    {
     "data": {
      "text/plain": [
       "1993"
      ]
     },
     "execution_count": 3,
     "metadata": {},
     "output_type": "execute_result"
    }
   ],
   "source": [
    "# Third birthday year\n",
    "third_birthday_year = years_list[3]\n",
    "third_birthday_year"
   ]
  },
  {
   "cell_type": "code",
   "execution_count": 5,
   "id": "3616f6c3-63b7-4a02-ac3f-552540f4a232",
   "metadata": {},
   "outputs": [
    {
     "data": {
      "text/plain": [
       "1995"
      ]
     },
     "execution_count": 5,
     "metadata": {},
     "output_type": "execute_result"
    }
   ],
   "source": [
    "# Year you were the oldest\n",
    "oldest_year = years_list[-1]\n",
    "oldest_year"
   ]
  },
  {
   "cell_type": "code",
   "execution_count": 7,
   "id": "21e20dfe-7a34-483e-b509-96ffc2391ebc",
   "metadata": {},
   "outputs": [
    {
     "data": {
      "text/plain": [
       "['mozzarella', 'cinderella', 'salmonella']"
      ]
     },
     "execution_count": 7,
     "metadata": {},
     "output_type": "execute_result"
    }
   ],
   "source": [
    "things = [\"mozzarella\", \"cinderella\", \"salmonella\"]\n",
    "things"
   ]
  },
  {
   "cell_type": "code",
   "execution_count": 9,
   "id": "7c846c3f-a94d-4945-9d63-5bad2bd02396",
   "metadata": {},
   "outputs": [
    {
     "data": {
      "text/plain": [
       "['mozzarella', 'Cinderella', 'salmonella']"
      ]
     },
     "execution_count": 9,
     "metadata": {},
     "output_type": "execute_result"
    }
   ],
   "source": [
    "# Capitalize \"cinderella\"\n",
    "things[1] = things[1].capitalize()\n",
    "things"
   ]
  },
  {
   "cell_type": "code",
   "execution_count": 11,
   "id": "3934f4e1-c831-43b2-8fa2-71802b8ea4c1",
   "metadata": {},
   "outputs": [
    {
     "data": {
      "text/plain": [
       "['MOZZARELLA', 'Cinderella', 'salmonella']"
      ]
     },
     "execution_count": 11,
     "metadata": {},
     "output_type": "execute_result"
    }
   ],
   "source": [
    "# Convert \"mozzarella\" to uppercase\n",
    "things[0] = things[0].upper()\n",
    "things"
   ]
  },
  {
   "cell_type": "code",
   "execution_count": 13,
   "id": "5a366798-c45b-4379-92d6-1b772449f038",
   "metadata": {},
   "outputs": [
    {
     "data": {
      "text/plain": [
       "['MOZZARELLA', 'Cinderella']"
      ]
     },
     "execution_count": 13,
     "metadata": {},
     "output_type": "execute_result"
    }
   ],
   "source": [
    "# Remove \"salmonella\"\n",
    "things.remove(\"salmonella\")\n",
    "things"
   ]
  },
  {
   "cell_type": "code",
   "execution_count": 15,
   "id": "9894fb9b-cfda-4d49-95a9-9709cd69df71",
   "metadata": {},
   "outputs": [
    {
     "data": {
      "text/plain": [
       "['Groucho', 'Chico', 'Harpo']"
      ]
     },
     "execution_count": 15,
     "metadata": {},
     "output_type": "execute_result"
    }
   ],
   "source": [
    "surprise = [\"Groucho\", \"Chico\", \"Harpo\"]\n",
    "surprise"
   ]
  },
  {
   "cell_type": "code",
   "execution_count": 17,
   "id": "d0f8863c-d22b-4c9b-b581-1bd256c953a8",
   "metadata": {},
   "outputs": [
    {
     "data": {
      "text/plain": [
       "['Groucho', 'Chico', 'Oprah']"
      ]
     },
     "execution_count": 17,
     "metadata": {},
     "output_type": "execute_result"
    }
   ],
   "source": [
    "# Modify last element in `surprise`\n",
    "surprise[-1] = surprise[-1].lower()[::-1].capitalize()\n",
    "surprise"
   ]
  },
  {
   "cell_type": "code",
   "execution_count": 19,
   "id": "588d5ef2-61b1-4447-9013-ad29e235f162",
   "metadata": {},
   "outputs": [
    {
     "data": {
      "text/plain": [
       "[0, 2, 4, 6, 8]"
      ]
     },
     "execution_count": 19,
     "metadata": {},
     "output_type": "execute_result"
    }
   ],
   "source": [
    "even = [num for num in range(10) if num % 2 == 0]\n",
    "even"
   ]
  },
  {
   "cell_type": "code",
   "execution_count": 21,
   "id": "cc1e62e3-452f-4df1-9eb6-33e8711a227d",
   "metadata": {},
   "outputs": [
    {
     "name": "stdout",
     "output_type": "stream",
     "text": [
      "Fee! Fie! Foe! Flop!\n",
      "Someone better get a mop.\n",
      "\n",
      "Fee! Fie! Foe! Fope!\n",
      "Someone better turn the rope.\n",
      "\n",
      "Fee! Fie! Foe! Fa!\n",
      "Someone better get your ma.\n",
      "\n",
      "Fee! Fie! Foe! Fudge!\n",
      "Someone better call the judge.\n",
      "\n",
      "Fee! Fie! Foe! Fat!\n",
      "Someone better pet the cat.\n",
      "\n",
      "Fee! Fie! Foe! Fog!\n",
      "Someone better walk the dog.\n",
      "\n",
      "Fee! Fie! Foe! Fun!\n",
      "Someone better say we're done.\n",
      "\n"
     ]
    }
   ],
   "source": [
    "start1 = [\"fee\", \"fie\", \"foe\"]\n",
    "rhymes = [\n",
    "    (\"flop\", \"get a mop\"),\n",
    "    (\"fope\", \"turn the rope\"),\n",
    "    (\"fa\", \"get your ma\"),\n",
    "    (\"fudge\", \"call the judge\"),\n",
    "    (\"fat\", \"pet the cat\"),\n",
    "    (\"fog\", \"walk the dog\"),\n",
    "    (\"fun\", \"say we're done\"),\n",
    "]\n",
    "start2 = \"Someone better\"\n",
    "\n",
    "for (first, second) in rhymes:\n",
    "    # First line\n",
    "    line1 = \" \".join([word.capitalize() + \"!\" for word in start1]) + \" \" + first.capitalize() + \"!\"\n",
    "    # Second line\n",
    "    line2 = start2 + \" \" + second + \".\"\n",
    "    print(line1)\n",
    "    print(line2)\n",
    "    print()"
   ]
  },
  {
   "cell_type": "code",
   "execution_count": null,
   "id": "0625aad9-0bdf-47ee-999d-3f1fe328310c",
   "metadata": {},
   "outputs": [],
   "source": []
  }
 ],
 "metadata": {
  "kernelspec": {
   "display_name": "Python 3 (ipykernel)",
   "language": "python",
   "name": "python3"
  },
  "language_info": {
   "codemirror_mode": {
    "name": "ipython",
    "version": 3
   },
   "file_extension": ".py",
   "mimetype": "text/x-python",
   "name": "python",
   "nbconvert_exporter": "python",
   "pygments_lexer": "ipython3",
   "version": "3.12.7"
  }
 },
 "nbformat": 4,
 "nbformat_minor": 5
}
