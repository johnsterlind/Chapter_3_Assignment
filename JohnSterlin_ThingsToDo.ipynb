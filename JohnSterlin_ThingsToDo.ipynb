{
 "cells": [
  {
   "cell_type": "markdown",
   "id": "e1ee8c01-7467-4aa6-b6bc-bb25065933c8",
   "metadata": {},
   "source": [
    "Choose a number between 1 and 10 and assign it to the variable secret. Select another number between 1 and 10 and assign it to guess. Write conditional tests to print whether the guess is too low, too high, or just right."
   ]
  },
  {
   "cell_type": "code",
   "execution_count": 1,
   "id": "5d21869d-019f-4e5d-bc14-29499c8836d0",
   "metadata": {},
   "outputs": [
    {
     "name": "stdout",
     "output_type": "stream",
     "text": [
      "too low\n"
     ]
    }
   ],
   "source": [
    "secret = 7  # Assign a number between 1 and 10\n",
    "guess = 5   # Choose another number for guessing\n",
    "\n",
    "if guess < secret:\n",
    "    print(\"too low\")\n",
    "elif guess > secret:\n",
    "    print(\"too high\")\n",
    "else:\n",
    "    print(\"just right\")"
   ]
  },
  {
   "cell_type": "markdown",
   "id": "925392b1-a4f7-485a-a53c-542aaaf96f90",
   "metadata": {},
   "source": [
    "Assign True or False to small and green. Write if/else statements to determine what type of fruit corresponds to the conditions given."
   ]
  },
  {
   "cell_type": "code",
   "execution_count": 3,
   "id": "c9723ea8-6b09-4f2a-adf8-cfef9165c490",
   "metadata": {},
   "outputs": [
    {
     "name": "stdout",
     "output_type": "stream",
     "text": [
      "strawberry\n"
     ]
    }
   ],
   "source": [
    "small = True\n",
    "green = False\n",
    "\n",
    "if small and green:\n",
    "    print(\"cherry\")\n",
    "elif small and not green:\n",
    "    print(\"strawberry\")\n",
    "elif not small and green:\n",
    "    print(\"watermelon\")\n",
    "else:\n",
    "    print(\"pumpkin\")"
   ]
  },
  {
   "cell_type": "markdown",
   "id": "4eaa8822-f323-4527-8fb3-face652c54f0",
   "metadata": {},
   "source": [
    "Use a for loop to print the values of the list [3, 2, 1, 0]."
   ]
  },
  {
   "cell_type": "code",
   "execution_count": 1,
   "id": "04f43aba-7113-4412-a98e-8803a2ee6bd0",
   "metadata": {},
   "outputs": [
    {
     "name": "stdout",
     "output_type": "stream",
     "text": [
      "3\n",
      "2\n",
      "1\n",
      "0\n"
     ]
    }
   ],
   "source": [
    "for number in [3, 2, 1, 0]:\n",
    "    print(number)"
   ]
  },
  {
   "cell_type": "markdown",
   "id": "b3fd5c0a-4800-49dc-8f9f-ddf089d96274",
   "metadata": {},
   "source": [
    "Assign values to guess_me and number. Use a while loop to compare them, incrementing number until it matches or exceeds guess_me."
   ]
  },
  {
   "cell_type": "code",
   "execution_count": 3,
   "id": "e7dcc6fc-04fc-4424-8c0d-064098541086",
   "metadata": {},
   "outputs": [
    {
     "name": "stdout",
     "output_type": "stream",
     "text": [
      "too low\n",
      "too low\n",
      "too low\n",
      "too low\n",
      "too low\n",
      "too low\n",
      "found it!\n"
     ]
    }
   ],
   "source": [
    "guess_me = 7\n",
    "number = 1\n",
    "\n",
    "while number <= guess_me:\n",
    "    if number < guess_me:\n",
    "        print(\"too low\")\n",
    "    elif number == guess_me:\n",
    "        print(\"found it!\")\n",
    "        break\n",
    "    number += 1"
   ]
  },
  {
   "cell_type": "markdown",
   "id": "dd3514fe-3070-4ff8-8bbe-c1cd05bca7cb",
   "metadata": {},
   "source": [
    "Assign value to guess_me and iterate over range(10) to check against it."
   ]
  },
  {
   "cell_type": "code",
   "execution_count": 5,
   "id": "5d86ad3e-e877-46b4-a982-503a5698bb77",
   "metadata": {},
   "outputs": [
    {
     "name": "stdout",
     "output_type": "stream",
     "text": [
      "too low\n",
      "too low\n",
      "too low\n",
      "too low\n",
      "too low\n",
      "found it!\n"
     ]
    }
   ],
   "source": [
    "guess_me = 5\n",
    "for number in range(10):\n",
    "    if number < guess_me:\n",
    "        print(\"too low\")\n",
    "    elif number == guess_me:\n",
    "        print(\"found it!\")\n",
    "        break\n",
    "    else:\n",
    "        print(\"oops\")"
   ]
  },
  {
   "cell_type": "code",
   "execution_count": null,
   "id": "b73652f1-3025-4330-9741-5cd98f33cc1a",
   "metadata": {},
   "outputs": [],
   "source": []
  }
 ],
 "metadata": {
  "kernelspec": {
   "display_name": "Python 3 (ipykernel)",
   "language": "python",
   "name": "python3"
  },
  "language_info": {
   "codemirror_mode": {
    "name": "ipython",
    "version": 3
   },
   "file_extension": ".py",
   "mimetype": "text/x-python",
   "name": "python",
   "nbconvert_exporter": "python",
   "pygments_lexer": "ipython3",
   "version": "3.12.7"
  }
 },
 "nbformat": 4,
 "nbformat_minor": 5
}
