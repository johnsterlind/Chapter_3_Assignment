{
 "cells": [
  {
   "cell_type": "code",
   "execution_count": null,
   "id": "8f2ccc01-ca3b-4f28-9522-325469a5bde9",
   "metadata": {},
   "outputs": [
    {
     "name": "stdin",
     "output_type": "stream",
     "text": [
      "Enter the student's last name (or 'ZZZ' to quit):  John\n",
      "Enter the student's first name:  Duv\n",
      "Enter the student's GPA:  3.4\n"
     ]
    },
    {
     "name": "stdout",
     "output_type": "stream",
     "text": [
      "Duv John has made the Honor Roll.\n"
     ]
    },
    {
     "name": "stdin",
     "output_type": "stream",
     "text": [
      "Enter the student's last name (or 'ZZZ' to quit):  Banj\n",
      "Enter the student's first name:  Malo\n",
      "Enter the student's GPA:  3.8\n"
     ]
    },
    {
     "name": "stdout",
     "output_type": "stream",
     "text": [
      "Malo Banj has made the Dean's List.\n"
     ]
    },
    {
     "name": "stdin",
     "output_type": "stream",
     "text": [
      "Enter the student's last name (or 'ZZZ' to quit):  Malea\n",
      "Enter the student's first name:  Cazir\n",
      "Enter the student's GPA:  4\n"
     ]
    },
    {
     "name": "stdout",
     "output_type": "stream",
     "text": [
      "Cazir Malea has made the Dean's List.\n"
     ]
    }
   ],
   "source": [
    "# Module 2 Lab - Case Study: if...else and while\n",
    "# Author: John Sterlin Duverseau\n",
    "# Filename: StudentGPAchecker.py\n",
    "# Description: This app accepts student names and GPAs, checking if they qualify for Dean's List or Honor Roll.\n",
    "\n",
    "def main():\n",
    "    while True:\n",
    "        # Ask for and accept a student's last name\n",
    "        last_name = input(\"Enter the student's last name (or 'ZZZ' to quit): \")\n",
    "        \n",
    "        # Quit processing if last name is 'ZZZ'\n",
    "        if last_name == 'ZZZ':\n",
    "            print(\"Exiting the program.\")\n",
    "            break\n",
    "        \n",
    "        # Ask for and accept a student's first name\n",
    "        first_name = input(\"Enter the student's first name: \")\n",
    "        \n",
    "        # Ask for and accept the student's GPA as a float\n",
    "        try:\n",
    "            gpa = float(input(\"Enter the student's GPA: \"))\n",
    "        except ValueError:\n",
    "            print(\"Invalid GPA. Please enter a numeric value.\")\n",
    "            continue\n",
    "        \n",
    "        # Check GPA for Dean's List\n",
    "        if gpa >= 3.5:\n",
    "            print(f\"{first_name} {last_name} has made the Dean's List.\")\n",
    "        \n",
    "        # Check GPA for Honor Roll\n",
    "        elif gpa >= 3.25:\n",
    "            print(f\"{first_name} {last_name} has made the Honor Roll.\")\n",
    "        \n",
    "        else:\n",
    "            print(f\"{first_name} {last_name} did not qualify for Dean's List or Honor Roll.\")\n",
    "\n",
    "# Call the main function to run the program\n",
    "if __name__ == \"__main__\":\n",
    "    main()"
   ]
  },
  {
   "cell_type": "code",
   "execution_count": null,
   "id": "a93c3cfc-1e15-48d0-a951-71190ea11a4a",
   "metadata": {},
   "outputs": [],
   "source": []
  }
 ],
 "metadata": {
  "kernelspec": {
   "display_name": "Python 3 (ipykernel)",
   "language": "python",
   "name": "python3"
  },
  "language_info": {
   "codemirror_mode": {
    "name": "ipython",
    "version": 3
   },
   "file_extension": ".py",
   "mimetype": "text/x-python",
   "name": "python",
   "nbconvert_exporter": "python",
   "pygments_lexer": "ipython3",
   "version": "3.12.7"
  }
 },
 "nbformat": 4,
 "nbformat_minor": 5
}
